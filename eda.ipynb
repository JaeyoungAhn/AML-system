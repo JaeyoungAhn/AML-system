{
 "cells": [
  {
   "cell_type": "code",
   "execution_count": 1,
   "metadata": {},
   "outputs": [],
   "source": [
    "import pandas as pd"
   ]
  },
  {
   "cell_type": "code",
   "execution_count": 2,
   "metadata": {},
   "outputs": [
    {
     "data": {
      "text/plain": [
       "Branch Name       26\n",
       "Street Address    25\n",
       "City              25\n",
       "State             13\n",
       "Zipcode           25\n",
       "dtype: int64"
      ]
     },
     "execution_count": 2,
     "metadata": {},
     "output_type": "execute_result"
    }
   ],
   "source": [
    "# Data reference: https://www.kaggle.com/datasets/chasebank/bank-deposits\n",
    "\n",
    "interested_cols = ['Branch Name', 'Street Address',  'City', 'State', 'Zipcode']\n",
    "df = pd.read_csv(\"./chase-bank-branch-deposits.csv\")\n",
    "main_br = df.iloc[:1][interested_cols]\n",
    "mobile_br = pd.DataFrame([[\"JPMorgan Chase Bank Mobile\", None, None, None, None]], columns=interested_cols)\n",
    "df = df.iloc[1:][interested_cols].sample(24, random_state=4123)\n",
    "\n",
    "df = pd.concat([main_br, mobile_br, df], ignore_index=True)\n",
    "\n",
    "df.nunique()"
   ]
  },
  {
   "cell_type": "code",
   "execution_count": 3,
   "metadata": {},
   "outputs": [
    {
     "data": {
      "text/html": [
       "<div>\n",
       "<style scoped>\n",
       "    .dataframe tbody tr th:only-of-type {\n",
       "        vertical-align: middle;\n",
       "    }\n",
       "\n",
       "    .dataframe tbody tr th {\n",
       "        vertical-align: top;\n",
       "    }\n",
       "\n",
       "    .dataframe thead th {\n",
       "        text-align: right;\n",
       "    }\n",
       "</style>\n",
       "<table border=\"1\" class=\"dataframe\">\n",
       "  <thead>\n",
       "    <tr style=\"text-align: right;\">\n",
       "      <th></th>\n",
       "      <th>Branch Name</th>\n",
       "      <th>Street Address</th>\n",
       "      <th>City</th>\n",
       "      <th>State</th>\n",
       "      <th>Zipcode</th>\n",
       "    </tr>\n",
       "  </thead>\n",
       "  <tbody>\n",
       "    <tr>\n",
       "      <th>0</th>\n",
       "      <td>JPMorgan Chase Bank Main Office</td>\n",
       "      <td>1111 Polaris Parkway</td>\n",
       "      <td>Columbus</td>\n",
       "      <td>OH</td>\n",
       "      <td>43240</td>\n",
       "    </tr>\n",
       "    <tr>\n",
       "      <th>1</th>\n",
       "      <td>JPMorgan Chase Bank Mobile</td>\n",
       "      <td>None</td>\n",
       "      <td>None</td>\n",
       "      <td>None</td>\n",
       "      <td>None</td>\n",
       "    </tr>\n",
       "    <tr>\n",
       "      <th>2</th>\n",
       "      <td>College Grove Branch</td>\n",
       "      <td>3490 College Avenue</td>\n",
       "      <td>San Diego</td>\n",
       "      <td>CA</td>\n",
       "      <td>92115</td>\n",
       "    </tr>\n",
       "    <tr>\n",
       "      <th>3</th>\n",
       "      <td>Athens Main Branch</td>\n",
       "      <td>2 S Court Street</td>\n",
       "      <td>Athens</td>\n",
       "      <td>OH</td>\n",
       "      <td>45701</td>\n",
       "    </tr>\n",
       "    <tr>\n",
       "      <th>4</th>\n",
       "      <td>South Salem Branch</td>\n",
       "      <td>3450 Commercial St Se</td>\n",
       "      <td>Salem</td>\n",
       "      <td>OR</td>\n",
       "      <td>97302</td>\n",
       "    </tr>\n",
       "  </tbody>\n",
       "</table>\n",
       "</div>"
      ],
      "text/plain": [
       "                       Branch Name         Street Address       City State  \\\n",
       "0  JPMorgan Chase Bank Main Office   1111 Polaris Parkway   Columbus    OH   \n",
       "1       JPMorgan Chase Bank Mobile                   None       None  None   \n",
       "2             College Grove Branch    3490 College Avenue  San Diego    CA   \n",
       "3               Athens Main Branch       2 S Court Street     Athens    OH   \n",
       "4               South Salem Branch  3450 Commercial St Se      Salem    OR   \n",
       "\n",
       "  Zipcode  \n",
       "0   43240  \n",
       "1    None  \n",
       "2   92115  \n",
       "3   45701  \n",
       "4   97302  "
      ]
     },
     "execution_count": 3,
     "metadata": {},
     "output_type": "execute_result"
    }
   ],
   "source": [
    "df.head()"
   ]
  },
  {
   "cell_type": "code",
   "execution_count": 4,
   "metadata": {},
   "outputs": [],
   "source": [
    "def construct_insert_stmt_fmt(value_cnt):\n",
    "    fmt = \"INSERT INTO \\{\\} VALUES ({});\"\n",
    "    b_str = \", \".join([\"{}\" for _ in range(value_cnt)])\n",
    "    stmt_fmt = \"INSERT INTO {} VALUES (\" + b_str + \");\"\n",
    "    \n",
    "    return stmt_fmt\n",
    "\n",
    "def convert_by_type(value):\n",
    "    if pd.isna(value):\n",
    "        return 'NULL';\n",
    "    elif type(value) in [str, bytes]:\n",
    "        return f\"'{value}'\"\n",
    "    elif type(value) in [int, float]:\n",
    "        return value\n",
    "\n",
    "def create_single_insert_stmt(table_name, *items):\n",
    "    insert_stmt_fmt = construct_insert_stmt_fmt(len(items))\n",
    "    param_l  = [convert_by_type(item) for item in items]\n",
    "    \n",
    "    return insert_stmt_fmt.format(table_name, *param_l) + \"\\n\"\n",
    "    \n",
    "\n",
    "with open(\"populate_bank.sql\", \"w\") as f:\n",
    "    for i, r in df.iterrows():\n",
    "        f.write(create_single_insert_stmt(\"BANK\", i, r[\"Branch Name\"], r[\"Street Address\"], r[\"City\"], r[\"State\"], r[\"Zipcode\"]))\n"
   ]
  },
  {
   "cell_type": "code",
   "execution_count": 5,
   "metadata": {},
   "outputs": [
    {
     "data": {
      "text/html": [
       "<div>\n",
       "<style scoped>\n",
       "    .dataframe tbody tr th:only-of-type {\n",
       "        vertical-align: middle;\n",
       "    }\n",
       "\n",
       "    .dataframe tbody tr th {\n",
       "        vertical-align: top;\n",
       "    }\n",
       "\n",
       "    .dataframe thead th {\n",
       "        text-align: right;\n",
       "    }\n",
       "</style>\n",
       "<table border=\"1\" class=\"dataframe\">\n",
       "  <thead>\n",
       "    <tr style=\"text-align: right;\">\n",
       "      <th></th>\n",
       "      <th>name</th>\n",
       "      <th>sex</th>\n",
       "      <th>nationality</th>\n",
       "    </tr>\n",
       "  </thead>\n",
       "  <tbody>\n",
       "    <tr>\n",
       "      <th>0</th>\n",
       "      <td>Jainna</td>\n",
       "      <td>Female</td>\n",
       "      <td>American</td>\n",
       "    </tr>\n",
       "    <tr>\n",
       "      <th>1</th>\n",
       "      <td>Tyrion</td>\n",
       "      <td>Male</td>\n",
       "      <td>American</td>\n",
       "    </tr>\n",
       "    <tr>\n",
       "      <th>2</th>\n",
       "      <td>Annaleigh</td>\n",
       "      <td>Female</td>\n",
       "      <td>American</td>\n",
       "    </tr>\n",
       "    <tr>\n",
       "      <th>3</th>\n",
       "      <td>Arlene</td>\n",
       "      <td>Female</td>\n",
       "      <td>American</td>\n",
       "    </tr>\n",
       "    <tr>\n",
       "      <th>4</th>\n",
       "      <td>Tsukiko</td>\n",
       "      <td>Female</td>\n",
       "      <td>Japanese</td>\n",
       "    </tr>\n",
       "  </tbody>\n",
       "</table>\n",
       "</div>"
      ],
      "text/plain": [
       "        name     sex nationality\n",
       "0     Jainna  Female    American\n",
       "1     Tyrion    Male    American\n",
       "2  Annaleigh  Female    American\n",
       "3     Arlene  Female    American\n",
       "4    Tsukiko  Female    Japanese"
      ]
     },
     "execution_count": 5,
     "metadata": {},
     "output_type": "execute_result"
    }
   ],
   "source": [
    "# Data reference: https://www.kaggle.com/datasets/hemendrasr/name-by-nationality\n",
    "\n",
    "df = pd.read_csv(\"./names-by-nationality.csv\")\n",
    "df = df[(df[\"sex\"] != \"Neutral\") & (df[\"nationality\"] != \"African\")]\n",
    "df.nunique()\n",
    "\n",
    "shuffle = lambda df: df.sample(frac=1, random_state=775, ignore_index=True)\n",
    "\n",
    "df_american = shuffle(df[df[\"nationality\"] == \"American\"])[:175]\n",
    "df_japanese = shuffle(df[df[\"nationality\"] == \"Japanese\"])[:10]\n",
    "df_indian = shuffle(df[df[\"nationality\"] == \"Indian\"])[:9]\n",
    "df_french = shuffle(df[df[\"nationality\"] == \"French\"])[:4]\n",
    "df_german = shuffle(df[df[\"nationality\"] == \"German\"])[:2]\n",
    "\n",
    "map_list_a = [(12, 99), (45, 67), (33, 46), (65, 172), (7, 160), (11, 77), (97, 133)]\n",
    "map_list_i = [(3, 6)]\n",
    "\n",
    "def create_duplicate_names(df, map_l): \n",
    "    for from_i, to_i in map_l:\n",
    "        df.iloc[to_i][\"name\"] = df.iloc[from_i][\"name\"]\n",
    "        df.iloc[to_i][\"sex\"] = df.iloc[from_i][\"sex\"]\n",
    "\n",
    "create_duplicate_names(df_american, map_list_a)\n",
    "create_duplicate_names(df_indian, map_list_i)\n",
    "\n",
    "df = pd.concat([df_american, df_japanese, df_indian, df_french, df_german]).sample(frac=1, random_state=775, ignore_index=True)\n",
    "\n",
    "df.head()"
   ]
  },
  {
   "cell_type": "code",
   "execution_count": 6,
   "metadata": {},
   "outputs": [],
   "source": [
    "import requests\n",
    "from bs4 import BeautifulSoup\n",
    "import sys\n",
    "\n",
    "def get_addr_list(soup):\n",
    "    uls = soup.find_all(\"ul\", class_=\"list-unstyled\")\n",
    "\n",
    "    for ul in uls:\n",
    "        b = ul.find(\"b\")\n",
    "        if b is not None and \"Street:\" in b:\n",
    "            addr_ul = ul\n",
    "            break\n",
    "\n",
    "    addr_list = addr_ul.find_all(\"li\")\n",
    "    addr_dicts = []\n",
    "    for address in addr_list:\n",
    "        addr_dict = {}\n",
    "        keys = [\"street\", \"city\", \"state\", \"phone_number\"]\n",
    "        for s, k in zip(address.find_all(\"span\")[:4], keys):\n",
    "            text = s.find(\"b\").nextSibling.get_text().strip()\n",
    "            addr_dict[k] = text\n",
    "        addr_dicts.append(addr_dict)\n",
    "\n",
    "    return addr_dicts"
   ]
  },
  {
   "cell_type": "code",
   "execution_count": 7,
   "metadata": {},
   "outputs": [
    {
     "data": {
      "text/plain": [
       "{'street': '4651 Trainer Avenue',\n",
       " 'city': 'Peoria',\n",
       " 'state': 'Illinois',\n",
       " 'phone_number': '309-518-7596'}"
      ]
     },
     "execution_count": 7,
     "metadata": {},
     "output_type": "execute_result"
    }
   ],
   "source": [
    "# Data reference: https://www.bestrandoms.com/random-address-in-us\n",
    "\n",
    "addr_list = []\n",
    "for _ in range(10):\n",
    "    try:\n",
    "        res = requests.get(\"https://www.bestrandoms.com/random-address-in-us?quantity=20\")\n",
    "        res.raise_for_status()\n",
    "    except Exception as e:\n",
    "        print(e)\n",
    "        sys.exit(1)\n",
    "\n",
    "    html_doc = res.text\n",
    "    soup = BeautifulSoup(html_doc, \"html.parser\")\n",
    "    addr_list.extend(get_addr_list(soup))\n",
    "addr_list[0]"
   ]
  },
  {
   "cell_type": "code",
   "execution_count": 8,
   "metadata": {},
   "outputs": [
    {
     "data": {
      "text/plain": [
       "{'address': '4651 Trainer Avenue, Peoria, Illinois',\n",
       " 'phone_number': '309-518-7596'}"
      ]
     },
     "execution_count": 8,
     "metadata": {},
     "output_type": "execute_result"
    }
   ],
   "source": [
    "def to_addr(**d):\n",
    "    return \", \".join([d[\"street\"], d[\"city\"], d[\"state\"]])  \n",
    "\n",
    "addr_list = [{\"address\": to_addr(**addr), \"phone_number\": addr[\"phone_number\"]}for addr in addr_list]\n",
    "addr_list[0]"
   ]
  },
  {
   "cell_type": "code",
   "execution_count": 9,
   "metadata": {},
   "outputs": [],
   "source": [
    "with open(\"populate_holder.sql\", \"w\") as f:\n",
    "    for addr, (i, r) in zip(addr_list, df.iterrows()):\n",
    "        insert_stmt = create_single_insert_stmt(\"HOLDER\", i, r[\"name\"], r[\"sex\"], addr[\"address\"], r[\"nationality\"], addr[\"phone_number\"])\n",
    "        f.write(insert_stmt)\n",
    "    "
   ]
  },
  {
   "cell_type": "code",
   "execution_count": 10,
   "metadata": {},
   "outputs": [],
   "source": [
    "import random\n",
    "\n",
    "dng_holder_ids = list(range(200))\n",
    "random.shuffle(dng_holder_ids)\n",
    "dng_holder_ids = dng_holder_ids[:20]\n",
    "dng_scores = [round(random.uniform(90, 99), 2) for _ in range(20)]\n",
    "\n",
    "with open(\"populate_dng_holder.sql\", \"w\") as f:\n",
    "    for h_id, score in zip(dng_holder_ids, dng_scores):\n",
    "        insert_stmt = create_single_insert_stmt(\"DNG_HOLDER\", h_id, score)\n",
    "        f.write(insert_stmt)"
   ]
  },
  {
   "cell_type": "code",
   "execution_count": 11,
   "metadata": {},
   "outputs": [
    {
     "name": "stdout",
     "output_type": "stream",
     "text": [
      "[65, 43, 60, 71, 22, 120, 150]\n",
      "244 244\n"
     ]
    }
   ],
   "source": [
    "from functools import reduce\n",
    "\n",
    "mapper = [(1, 185), (2, 10), (5, 2), (9, 1), (10, 2)]\n",
    "uniq_h_ids = list(range(200))\n",
    "random.shuffle(uniq_h_ids)\n",
    "\n",
    "print(uniq_h_ids[:7])\n",
    "h_ids = []\n",
    "\n",
    "def red_func(prev, curr):\n",
    "    t = uniq_h_ids[prev[1]:prev[1]+curr[1]]\n",
    "    t = [e for e in t for _ in range(curr[0])]\n",
    "    h_ids.extend(t)\n",
    "\n",
    "    return curr\n",
    "\n",
    "reduce(red_func, mapper, (0, 0))\n",
    "account_cnt = sum(m[0] * m[1] for m in mapper)\n",
    "print(len(h_ids), account_cnt)"
   ]
  },
  {
   "cell_type": "code",
   "execution_count": 12,
   "metadata": {},
   "outputs": [
    {
     "name": "stdout",
     "output_type": "stream",
     "text": [
      "2909601 3036\n"
     ]
    },
    {
     "data": {
      "image/png": "[encoded data removed]",
      "text/plain": [
       "<Figure size 640x480 with 1 Axes>"
      ]
     },
     "metadata": {},
     "output_type": "display_data"
    }
   ],
   "source": [
    "import matplotlib.pyplot as plt\n",
    "import numpy as np\n",
    "\n",
    "np.random.seed(521)\n",
    "bals = list(abs(np.random.normal(774000, 700000, 244)).astype(int))\n",
    "plt.hist(bals, bins=len(bals))\n",
    "print(max(bals), min(bals))\n",
    "plt.show()"
   ]
  },
  {
   "cell_type": "code",
   "execution_count": 13,
   "metadata": {},
   "outputs": [],
   "source": [
    "import string\n",
    "characters = string.ascii_letters + string.punctuation  + string.digits\n",
    "\n",
    "def gen_pwd():\n",
    "    password = \"\"\n",
    "    password_length = random.randint(8, 16)\n",
    "\n",
    "    for x in range(password_length):\n",
    "        char = random.choice(characters)\n",
    "        password = password + char\n",
    "    \n",
    "    return password\n"
   ]
  },
  {
   "cell_type": "code",
   "execution_count": 14,
   "metadata": {},
   "outputs": [],
   "source": [
    "pwd_list = [gen_pwd() for _ in range(account_cnt)]"
   ]
  },
  {
   "cell_type": "code",
   "execution_count": 15,
   "metadata": {},
   "outputs": [],
   "source": [
    "import json\n",
    "\n",
    "with open(\"./dng_account_list.json\", \"r\") as f:\n",
    "    dng_account_list = json.load(f)[\"dng_account_list\"]\n",
    "\n",
    "prefix_digits = list(set(d[:3] for d in dng_account_list))\n",
    "\n",
    "def n_len_rand(n):\n",
    "    a = [str(random.randrange(0, 10)) for _ in range(n)]\n",
    "    return \"\".join(a)\n",
    "\n",
    "def gen_account():\n",
    "    i = random.randrange(0, len(prefix_digits))\n",
    "    return str(prefix_digits[i]) + n_len_rand(9)\n",
    "\n",
    "account_list = []\n",
    "while True:\n",
    "    accnt = gen_account()\n",
    "    if accnt in dng_account_list:\n",
    "        continue\n",
    "    account_list.append(accnt)\n",
    "    if len(account_list) == account_cnt:\n",
    "        break\n"
   ]
  },
  {
   "cell_type": "code",
   "execution_count": 16,
   "metadata": {},
   "outputs": [],
   "source": [
    "import csv\n",
    "\n",
    "with open(\"account_pwd_map.csv\", \"w\", newline='') as f:\n",
    "    writer = csv.writer(f, delimiter=',')\n",
    "    for a, p in zip(account_list, pwd_list):\n",
    "        writer.writerow([a, p])\n"
   ]
  },
  {
   "cell_type": "code",
   "execution_count": 17,
   "metadata": {},
   "outputs": [],
   "source": [
    "import hashlib\n",
    "\n",
    "m = hashlib.sha256()\n",
    "\n",
    "with open(\"populate_account.sql\", \"w\") as f:\n",
    "    for acc_no, bal, pwd, h_id in zip(account_list, bals, pwd_list, h_ids):\n",
    "        m.update(pwd.encode(\"utf-8\"))\n",
    "        f.write(create_single_insert_stmt(\"ACCOUNT\", acc_no, int(bal), m.digest().hex(), h_id))"
   ]
  }
 ],
 "metadata": {
  "kernelspec": {
   "display_name": "Python 3.8.12 ('base')",
   "language": "python",
   "name": "python3"
  },
  "language_info": {
   "codemirror_mode": {
    "name": "ipython",
    "version": 3
   },
   "file_extension": ".py",
   "mimetype": "text/x-python",
   "name": "python",
   "nbconvert_exporter": "python",
   "pygments_lexer": "ipython3",
   "version": "3.8.13"
  },
  "orig_nbformat": 4,
  "vscode": {
   "interpreter": {
    "hash": "3d597f4c481aa0f25dceb95d2a0067e73c0966dcbd003d741d821a7208527ecf"
   }
  }
 },
 "nbformat": 4,
 "nbformat_minor": 2
}
